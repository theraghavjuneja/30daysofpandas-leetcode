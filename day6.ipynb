{
 "cells": [
  {
   "cell_type": "code",
   "execution_count": null,
   "metadata": {},
   "outputs": [],
   "source": [
    "import pandas as pd\n",
    "\n",
    "def calculate_special_bonus(employees: pd.DataFrame) -> pd.DataFrame:\n",
    "    employees['bonus']=0\n",
    "    cond=(~employees['name'].str.startswith(\"M\")&(employees['employee_id']%2!=0))\n",
    "    employees.loc[cond,'bonus']=employees.salary\n",
    "    return employees[['employee_id','bonus']].sort_values(by='employee_id')"
   ]
  },
  {
   "cell_type": "code",
   "execution_count": null,
   "metadata": {},
   "outputs": [],
   "source": [
    "# OK SO HOW TO THINK?\n",
    "# ABOVE GIVEN WAS THE ANSWER\n",
    "# BELOW ARE SOME STMTS USE LOC&ILOC WHICH U CAN PRACTISE FOR UNDERSTANDING\n",
    "# how to use loc and iloc\n",
    "# basically they are used to print whole rows/whole column\n",
    "# or any of the value inside any of the row or column\n",
    "import pandas as pd\n",
    "\n",
    "data = {'A': [1, 2, 3], 'B': [4, 5, 6], 'C': [7, 8, 9]}\n",
    "df = pd.DataFrame(data, index=['row1', 'row2', 'row3'])\n",
    "print(df)\n",
    "# # Selecting a single element\n",
    "# print(df.loc['row1', 'A'])\n",
    "\n",
    "# # Selecting a row\n",
    "# print(df.loc['row2'])\n",
    "\n",
    "# # Selecting a column\n",
    "# print(df.loc[:, 'B'])\n",
    "\n",
    "# # Selecting multiple rows and columns\n",
    "# print(df.loc[['row1', 'row2'], ['A', 'B']])\n",
    "print(df.loc['row1','A'])\n",
    "print(df.loc['row2'])\n",
    "print(df.loc[:,'B'])"
   ]
  },
  {
   "cell_type": "code",
   "execution_count": null,
   "metadata": {},
   "outputs": [],
   "source": [
    "# loc is label based indexing\n",
    "# u spoecify the names of rows and columns u want to select\n",
    "# wo aapko specify krna pdta hai\n",
    "\n",
    "\n",
    "# coming to iloc\n",
    "# integer based indexing hai yeh\n",
    "# here u specify the numerical indices of rows and columns u want to select\n",
    "import pandas as pd\n",
    "\n",
    "data = {'A': [1, 2, 3], 'B': [4, 5, 6], 'C': [7, 8, 9]}\n",
    "df = pd.DataFrame(data)\n",
    "\n",
    "# Selecting a single element\n",
    "print(df.iloc[0, 1])\n",
    "\n",
    "# Selecting a row\n",
    "print(df.iloc[1])\n",
    "\n",
    "# Selecting a column\n",
    "print(df.iloc[:, 2])\n",
    "\n",
    "# Selecting multiple rows and columns\n",
    "print(df.iloc[0:2, 1:3])\n",
    "\n"
   ]
  },
  {
   "cell_type": "code",
   "execution_count": null,
   "metadata": {},
   "outputs": [],
   "source": [
    "# now i also have selecting a particular elemenet when a condition is met\n",
    "import pandas as pd\n",
    "\n",
    "# Sample DataFrame\n",
    "data = {'Name': ['Alice', 'Bob', 'Charlie', 'David'],\n",
    "        'Age': [25, 30, 35, 40],\n",
    "        'City': ['New York', 'San Francisco', 'Los Angeles', 'Chicago']}\n",
    "df = pd.DataFrame(data)\n",
    "\n",
    "# Print the values of the 'Name' column where the 'City' column is equal to 'New York'\n",
    "filtered_names = df.loc[df['City'] == 'New York', 'Name']\n",
    "print(filtered_names)\n",
    "# jab city new york hai to name kya hai"
   ]
  },
  {
   "cell_type": "code",
   "execution_count": null,
   "metadata": {},
   "outputs": [],
   "source": [
    "import pandas as pd\n",
    "\n",
    "# Sample DataFrame\n",
    "data = {'name': ['Alice', 'Bob', 'Charlie', 'David', 'Mark'],\n",
    "        'bonus': [10, 15, 25, 30, 40]}\n",
    "df = pd.DataFrame(data)\n",
    "\n",
    "# Condition: Set 'bonus' to 20 where the 'name' column starts with \"M\"\n",
    "cond = df['name'].str.startswith(\"M\")\n",
    "df.loc[cond, 'bonus'] = 20\n",
    "\n",
    "print(df)\n",
    "# agar name m se start hota to binus=20 krdo"
   ]
  }
 ],
 "metadata": {
  "kernelspec": {
   "display_name": "Python 3",
   "language": "python",
   "name": "python3"
  },
  "language_info": {
   "name": "python",
   "version": "3.11.5"
  }
 },
 "nbformat": 4,
 "nbformat_minor": 2
}
