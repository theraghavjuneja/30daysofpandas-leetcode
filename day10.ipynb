{
 "cells": [
  {
   "cell_type": "code",
   "execution_count": null,
   "metadata": {},
   "outputs": [],
   "source": [
    "import pandas as pd\n",
    "\n",
    "def nth_highest_salary(employee: pd.DataFrame, N: int) -> pd.DataFrame:\n",
    "    \n",
    "    employee['salary']=employee['salary'].drop_duplicates()\n",
    "    employee.dropna(inplace=True)\n",
    "    employee.sort_values(by='salary',inplace=True)\n",
    "    # We need to check N now after the duplicates has been dropped\n",
    "    # since if we did earlier than 4 th highest maybe acutal m 3rd highest ho\n",
    "    # thatswhy we need to check it now\n",
    "    if N <= 0:\n",
    "        return pd.DataFrame({f'getNthHighestSalary({N})': [None]})\n",
    "    if(N>len(employee)):\n",
    "        return pd.DataFrame({f'getNthHighestSalary({N})':[None]})\n",
    "    # otherwise I need to return the nth highest salary now\n",
    "    nth_highest=employee.iloc[len(employee)-N,1]\n",
    "    return pd.DataFrame({f'getNthHighestSalary({N})': [nth_highest]})\n",
    "\n"
   ]
  }
 ],
 "metadata": {
  "kernelspec": {
   "display_name": "Python 3",
   "language": "python",
   "name": "python3"
  },
  "language_info": {
   "name": "python",
   "version": "3.11.5"
  }
 },
 "nbformat": 4,
 "nbformat_minor": 2
}
