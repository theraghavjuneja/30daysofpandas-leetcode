{
 "cells": [
  {
   "cell_type": "code",
   "execution_count": 73,
   "metadata": {},
   "outputs": [
    {
     "data": {
      "text/plain": [
       "0    False\n",
       "1     True\n",
       "2    False\n",
       "3     True\n",
       "Name: id, dtype: bool"
      ]
     },
     "execution_count": 73,
     "metadata": {},
     "output_type": "execute_result"
    }
   ],
   "source": [
    "# import pandas as pd\n",
    "\n",
    "# # this is how I approached it inside jupyter notebook\n",
    "\n",
    "# data = {'id': [1, 2, 3, 4],\n",
    "#         'name': ['Joe', 'Henry', 'Sam', 'Max']}\n",
    "\n",
    "# df1 = pd.DataFrame(data)\n",
    "# orders_data = {'id': [1, 2],\n",
    "#                'customerId': [3, 1]}\n",
    "# df2=pd.DataFrame(orders_data)\n",
    "# # df1[[\"name\"]][df1.id==1]\n",
    "# df1[df1['id'].isin(df2.customerId)]\n",
    "\n",
    "# result=df1['id'].isin(df2['customerId'])\n",
    "# ~result\n",
    "\n",
    "\n",
    "# df1[['name']][df1['id'].isin(df2['customerId'])==False].rename(columns={\"name\":\"Customer\"})"
   ]
  },
  {
   "cell_type": "code",
   "execution_count": null,
   "metadata": {},
   "outputs": [],
   "source": [
    "import pandas as pd\n",
    "\n",
    "def find_customers(customers: pd.DataFrame, orders: pd.DataFrame) -> pd.DataFrame:\n",
    "    return customers[['name']][customers['id'].isin(orders['customerId'])==False].rename(columns={\"name\":\"Customers\"})"
   ]
  }
 ],
 "metadata": {
  "kernelspec": {
   "display_name": "Python 3",
   "language": "python",
   "name": "python3"
  },
  "language_info": {
   "codemirror_mode": {
    "name": "ipython",
    "version": 3
   },
   "file_extension": ".py",
   "mimetype": "text/x-python",
   "name": "python",
   "nbconvert_exporter": "python",
   "pygments_lexer": "ipython3",
   "version": "3.11.5"
  }
 },
 "nbformat": 4,
 "nbformat_minor": 2
}
