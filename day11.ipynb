{
 "cells": [
  {
   "cell_type": "code",
   "execution_count": null,
   "metadata": {},
   "outputs": [],
   "source": [
    "# This code is very similar to the previous code\n",
    "# with just the difference of 2 in placee of N\n",
    "# so thats it\n",
    "\n",
    "import pandas as pd\n",
    "\n",
    "def second_highest_salary(employee: pd.DataFrame) -> pd.DataFrame:\n",
    "    employee['salary']=employee['salary'].drop_duplicates()\n",
    "    employee.dropna(inplace=True)\n",
    "    employee.sort_values(by='salary',inplace=True)\n",
    "    if(2>len(employee)):\n",
    "        return pd.DataFrame({'SecondHighestSalary': [None]})\n",
    "   \n",
    "    sec_highest=employee.iloc[len(employee)-2,1]\n",
    "    return pd.DataFrame({f'SecondHighestSalary': [sec_highest]})"
   ]
  }
 ],
 "metadata": {
  "language_info": {
   "name": "python"
  }
 },
 "nbformat": 4,
 "nbformat_minor": 2
}
